{
  "cells": [
    {
      "cell_type": "markdown",
      "metadata": {
        "id": "view-in-github",
        "colab_type": "text"
      },
      "source": [
        "<a href=\"https://colab.research.google.com/github/NicolasManuelKoch/cap-comp215/blob/main/lab07_old.ipynb\" target=\"_parent\"><img src=\"https://colab.research.google.com/assets/colab-badge.svg\" alt=\"Open In Colab\"/></a>"
      ]
    },
    {
      "cell_type": "markdown",
      "source": [
        "# Lab 7: Fractal Dimension of Natural Disturbance\n",
        "In [1990](https://doi.org/10.1016/0375-9601(90)90451-S) Bak, Chen and Tang proposed a cellular automaton that is an abstract model of a forest fire. Each cell is in one of three states: empty, occupied by forest, or on fire.\n",
        "\n",
        "3 ecological processes is modelled: forest re-growth, fire ignition, and fire spread\n",
        "\n",
        "  * empty cells \"regenerate\" forest at a fixed rate\n",
        "  * forest fires ignite with a regular but small frequency\n",
        "  * forested cells catch fire when their neighbours are burning, and burn our in one time step.\n",
        "\n",
        "In this lab we will write a program that implements this model as a CA and look at the stable landscape patterns that emerge."
      ],
      "metadata": {
        "collapsed": false,
        "id": "kwt3y6DXCZdq"
      }
    },
    {
      "cell_type": "code",
      "execution_count": 10,
      "metadata": {
        "collapsed": true,
        "id": "xwFhFkhUCZdr"
      },
      "outputs": [],
      "source": [
        "import os\n",
        "import numpy as np\n",
        "import matplotlib.pyplot as plt\n",
        "import matplotlib as mpl\n",
        "from scipy.signal import correlate2d\n",
        "from scipy.stats import linregress\n",
        "\n",
        "if not os.path.exists('utils.py'):\n",
        "  !wget  https://raw.githubusercontent.com/pearcej/complex-colab/master/notebooks/utils.py\n",
        "if not os.path.exists('Cell2D.py'):\n",
        "  !wget  https://raw.githubusercontent.com/pearcej/complex-colab/master/notebooks/Cell2D.py\n",
        "from Cell2D import Cell2D, draw_array"
      ]
    },
    {
      "cell_type": "markdown",
      "source": [
        "## Data Definitions\n",
        "let's improve on the textbook's somewhat terse code style and define names for the 3 possible cell states, and a colour map that maps each cell state to an intuitive colour."
      ],
      "metadata": {
        "collapsed": false,
        "id": "g0871RRaCZds"
      }
    },
    {
      "cell_type": "code",
      "execution_count": 11,
      "outputs": [],
      "source": [
        "EMPTY = 0\n",
        "OCCUPIED = 1\n",
        "FIRE = 5\n",
        "\n",
        "cmap = [(1, 0.5, 0), (0,  1, 0), (0,0,0), (0,0,0), (0,0,0), (1,  0, 0)]\n",
        "cmap[EMPTY] = (1, 0.5, 0)    # brown\n",
        "cmap[OCCUPIED] = (0,  1, 0)  # green\n",
        "cmap[FIRE] = (1,  0, 0)      # red\n",
        "\n",
        "forest_colour_map = mpl.colors.ListedColormap(cmap)"
      ],
      "metadata": {
        "pycharm": {
          "name": "#%%\n"
        },
        "id": "onqMeg4sCZds"
      }
    },
    {
      "cell_type": "markdown",
      "source": [
        "## The Cellular Automata\n",
        "We'll extend the Cell2D CA, and define the step function to implement the 4 rules:\n",
        "  *  An empty cell becomes occupied with probability p.\n",
        "\n",
        "  *  A cell with a tree burns if any of its neighbors is on fire.\n",
        "\n",
        "  *  A cell with a tree spontaneously burns, with probability f, even if none of its neighbors is on fire.\n",
        "\n",
        "  *  A cell with a burning tree becomes an empty cell in the next time step.\n",
        "\n",
        "Typical values for the parameters are p=0.01 and f=0.001."
      ],
      "metadata": {
        "collapsed": false,
        "id": "NKtTj8SoCZds"
      }
    },
    {
      "cell_type": "code",
      "execution_count": 17,
      "outputs": [],
      "source": [
        "class ForestFire(Cell2D):\n",
        "  \"\"\" 2D Cellular Automaton that simulates a fire-dominated landscape \"\"\"\n",
        "\n",
        "  # TODO: define a corelation kernel\n",
        "  kernel = np.array([[0, 1, 0],\n",
        "                     [1,-4, 1],\n",
        "                     [0, 1, 0]])\n",
        "\n",
        "  def __init__(self, n, p=0.01, f=0.001, q=0.5):\n",
        "    \"\"\"Initializes the attributes.\n",
        "\n",
        "    n: number of rows\n",
        "    p: probability an empty cells becomes \"forested\" (occupied)\n",
        "    f: probability of spontaneous fire (e.g., 1/fire ignition interval)\n",
        "    q: initial forest density (probability cell is \"forested\" in initial state)\n",
        "    \"\"\"\n",
        "    # TODO: define internal model state variables and initialize landscape with approx. q proportion of cells OCCUPIED\n",
        "    self.number_of_rows = n\n",
        "    self.probability_random_forested = p\n",
        "    self.probability_random_fire = f\n",
        "    self.probability_cell_forested = q\n",
        "\n",
        "  def step(self):\n",
        "    \"\"\"Executes one time step, applying the CA rules to regnerate empty cells and spread fire to occupied neighbours.\"\"\"\n",
        "    # TODO: define the rules for the CA.  This is a significant challenge b/c there are 4 rules and they must act independently!\n",
        "    transitions = correlate2d(self.state, self.kernel, mode='same', boundary='wrap')\n",
        "\n",
        "  def num_occupied(self):\n",
        "    \"\"\" return the number of cells occupied by forest \"\"\"\n",
        "    return 0  # TODO: count the number of forested cells.\n",
        "\n",
        "  def pct_occupied(self):\n",
        "    \"\"\" return the proportion of cells occupied by forest \"\"\"\n",
        "    return self.num_occupied()/self.size\n",
        "\n",
        "  def draw(self):\n",
        "    \"\"\"Draws the CA cells using the forest colour map so values are coloured intuitively.\"\"\"\n",
        "    plt.axes().set_title(\"Occupied: {}%\".format(round(self.pct_occupied()*100, 2)))\n",
        "    draw_array(self.array, cmap=forest_colour_map, vmin=0, vmax=len(forest_colour_map.colors))"
      ],
      "metadata": {
        "pycharm": {
          "name": "#%%\n"
        },
        "id": "mktVkH7MCZdt"
      }
    },
    {
      "cell_type": "markdown",
      "source": [
        "## Animation\n",
        "Create a simple animation (using Cell2d.animate method) so we can visualize and verify the system dynamics"
      ],
      "metadata": {
        "collapsed": false,
        "id": "CgXh1TZMCZdt"
      }
    },
    {
      "cell_type": "code",
      "execution_count": 13,
      "outputs": [],
      "source": [
        "# TODO: your code here.\n",
        "#  Suggestions: use a small grid (e.g., 20x20)  and\n",
        "#               a short animation (100 frames) with interval=0.3, to slow it down so you can inspect its behvaviour\n"
      ],
      "metadata": {
        "pycharm": {
          "name": "#%%\n"
        },
        "id": "blY51gmWCZdt"
      }
    },
    {
      "cell_type": "markdown",
      "source": [
        "## Steady State\n",
        "Starting from a random initial condition, run the model until it reaches a \"steady state\" where the number of trees no longer increases or decreases consistently.\n",
        "How might we visualize this system or take measurements to determine steady-state?\n",
        "Start by making a plan for an experiment and visualiztion that will allow you to estimate the steady-state proportion of occuppied cells."
      ],
      "metadata": {
        "collapsed": false,
        "id": "eYOuS7qYCZdt"
      }
    },
    {
      "cell_type": "code",
      "execution_count": 14,
      "outputs": [],
      "source": [
        "# TODO: compute the long-term average steady-state proportion of occupied cells."
      ],
      "metadata": {
        "pycharm": {
          "name": "#%%\n"
        },
        "id": "9lT9eUZQCZdu"
      }
    },
    {
      "cell_type": "markdown",
      "source": [
        "## Fractal Dimension\n",
        "In steady state, is the geometry of the landscape fractal?\n",
        "What is its fractal dimension?\n",
        "\n",
        "The code below is re-purpose from the ``plot_perc_scaling`` function presented in Chapter 9.\n",
        "It splits that function in 2: first to generate the scaling data (occupied cells by grid size), then to plot the results."
      ],
      "metadata": {
        "collapsed": false,
        "id": "OEFQQpVqCZdu"
      }
    },
    {
      "cell_type": "code",
      "execution_count": 15,
      "outputs": [],
      "source": [
        "def calc_forest_scaling(sizes, p=0.01, f=0.001, q=0.33, run_length=200):\n",
        "    \"\"\" return a vector with one value for number of occupied cells in stable landscape, for each grid size provided \"\"\"\n",
        "    occupied = []\n",
        "    for size in sizes:\n",
        "        forest = ForestFire(n=size, p=p, f=f, q=q)\n",
        "        for _ in range(run_length):\n",
        "            forest.step()\n",
        "        occupied.append(forest.num_occupied())\n",
        "    return occupied\n",
        "\n",
        "\n",
        "def plot_forest_scaling(sizes, occupied):\n",
        "    \"\"\" plot the # of occupied cells by the size of the simulation grid \"\"\"\n",
        "    plot_options = dict(xlabel='scale', ylabel='N occupied', xscale='log', yscale='log')\n",
        "    fig, ax = plt.subplots(figsize=(6, 6), subplot_kw=plot_options)\n",
        "\n",
        "    line_options = dict(linestyle='dashed', color='gray', alpha=0.7)\n",
        "    ax.plot(sizes, sizes**2, label='d=2', **line_options)    # y =  x**2\n",
        "    ax.plot(sizes, occupied, '.', label='occupied')\n",
        "    ax.plot(sizes, sizes, label='d=1', **line_options)       # y = x\n",
        "    ax.legend()\n",
        "\n",
        "    # linear regression to estimate the slope of 3 lines (square, koch perim, linear) to estimate their dimension\n",
        "    for label, ys in [('square', sizes**2), ('landscape  ', occupied), ('linear', sizes)]:\n",
        "        params = linregress(np.log(sizes), np.log(ys))\n",
        "        print('{label} dimension: {slope}'.format(label=label, slope=params[0]))"
      ],
      "metadata": {
        "pycharm": {
          "name": "#%%\n"
        },
        "id": "WiHhFAkYCZdu"
      }
    },
    {
      "cell_type": "markdown",
      "source": [
        "If we plot the number of occupied cells versus the size of the box on a log-log scale, the slope estimates the dimension.\n",
        "\n",
        "But in this model everything scales at the same rate - total area, forested cell sizes, fire sizes, etc., so unsurprisingly, the occupied cells scale proportional to the total grid area, i.e., 2-dimensional.  \n",
        "\n",
        "What strategy could we employ to estimate the fractal dimension - the relative rate at which the \"mass\" changes as the length scale changes?"
      ],
      "metadata": {
        "collapsed": false,
        "id": "ktoebv2gCZdu"
      }
    },
    {
      "cell_type": "code",
      "execution_count": 16,
      "outputs": [
        {
          "output_type": "error",
          "ename": "AttributeError",
          "evalue": "ignored",
          "traceback": [
            "\u001b[0;31m---------------------------------------------------------------------------\u001b[0m",
            "\u001b[0;31mAttributeError\u001b[0m                            Traceback (most recent call last)",
            "\u001b[0;32m<ipython-input-16-45f65343d043>\u001b[0m in \u001b[0;36m<module>\u001b[0;34m\u001b[0m\n\u001b[1;32m      1\u001b[0m \u001b[0msizes\u001b[0m \u001b[0;34m=\u001b[0m \u001b[0mnp\u001b[0m\u001b[0;34m.\u001b[0m\u001b[0marray\u001b[0m\u001b[0;34m(\u001b[0m\u001b[0;34m[\u001b[0m\u001b[0;36m10\u001b[0m\u001b[0;34m,\u001b[0m \u001b[0;36m50\u001b[0m\u001b[0;34m,\u001b[0m \u001b[0;36m100\u001b[0m\u001b[0;34m,\u001b[0m \u001b[0;36m200\u001b[0m\u001b[0;34m,\u001b[0m \u001b[0;36m500\u001b[0m\u001b[0;34m,\u001b[0m \u001b[0;36m800\u001b[0m\u001b[0;34m,\u001b[0m \u001b[0;36m1200\u001b[0m\u001b[0;34m]\u001b[0m\u001b[0;34m)\u001b[0m\u001b[0;34m\u001b[0m\u001b[0;34m\u001b[0m\u001b[0m\n\u001b[0;32m----> 2\u001b[0;31m \u001b[0moccupied\u001b[0m \u001b[0;34m=\u001b[0m \u001b[0mcalc_forest_scaling\u001b[0m\u001b[0;34m(\u001b[0m\u001b[0msizes\u001b[0m\u001b[0;34m)\u001b[0m\u001b[0;34m\u001b[0m\u001b[0;34m\u001b[0m\u001b[0m\n\u001b[0m\u001b[1;32m      3\u001b[0m \u001b[0mplot_forest_scaling\u001b[0m\u001b[0;34m(\u001b[0m\u001b[0msizes\u001b[0m\u001b[0;34m,\u001b[0m \u001b[0moccupied\u001b[0m\u001b[0;34m)\u001b[0m\u001b[0;34m\u001b[0m\u001b[0;34m\u001b[0m\u001b[0m\n",
            "\u001b[0;32m<ipython-input-15-7a94f781c884>\u001b[0m in \u001b[0;36mcalc_forest_scaling\u001b[0;34m(sizes, p, f, q, run_length)\u001b[0m\n\u001b[1;32m      5\u001b[0m         \u001b[0mforest\u001b[0m \u001b[0;34m=\u001b[0m \u001b[0mForestFire\u001b[0m\u001b[0;34m(\u001b[0m\u001b[0mn\u001b[0m\u001b[0;34m=\u001b[0m\u001b[0msize\u001b[0m\u001b[0;34m,\u001b[0m \u001b[0mp\u001b[0m\u001b[0;34m=\u001b[0m\u001b[0mp\u001b[0m\u001b[0;34m,\u001b[0m \u001b[0mf\u001b[0m\u001b[0;34m=\u001b[0m\u001b[0mf\u001b[0m\u001b[0;34m,\u001b[0m \u001b[0mq\u001b[0m\u001b[0;34m=\u001b[0m\u001b[0mq\u001b[0m\u001b[0;34m)\u001b[0m\u001b[0;34m\u001b[0m\u001b[0;34m\u001b[0m\u001b[0m\n\u001b[1;32m      6\u001b[0m         \u001b[0;32mfor\u001b[0m \u001b[0m_\u001b[0m \u001b[0;32min\u001b[0m \u001b[0mrange\u001b[0m\u001b[0;34m(\u001b[0m\u001b[0mrun_length\u001b[0m\u001b[0;34m)\u001b[0m\u001b[0;34m:\u001b[0m\u001b[0;34m\u001b[0m\u001b[0;34m\u001b[0m\u001b[0m\n\u001b[0;32m----> 7\u001b[0;31m             \u001b[0mforest\u001b[0m\u001b[0;34m.\u001b[0m\u001b[0mstep\u001b[0m\u001b[0;34m(\u001b[0m\u001b[0;34m)\u001b[0m\u001b[0;34m\u001b[0m\u001b[0;34m\u001b[0m\u001b[0m\n\u001b[0m\u001b[1;32m      8\u001b[0m         \u001b[0moccupied\u001b[0m\u001b[0;34m.\u001b[0m\u001b[0mappend\u001b[0m\u001b[0;34m(\u001b[0m\u001b[0mforest\u001b[0m\u001b[0;34m.\u001b[0m\u001b[0mnum_occupied\u001b[0m\u001b[0;34m(\u001b[0m\u001b[0;34m)\u001b[0m\u001b[0;34m)\u001b[0m\u001b[0;34m\u001b[0m\u001b[0;34m\u001b[0m\u001b[0m\n\u001b[1;32m      9\u001b[0m     \u001b[0;32mreturn\u001b[0m \u001b[0moccupied\u001b[0m\u001b[0;34m\u001b[0m\u001b[0;34m\u001b[0m\u001b[0m\n",
            "\u001b[0;32m<ipython-input-12-aa128e92e668>\u001b[0m in \u001b[0;36mstep\u001b[0;34m(self)\u001b[0m\n\u001b[1;32m     24\u001b[0m     \u001b[0;34m\"\"\"Executes one time step, applying the CA rules to regnerate empty cells and spread fire to occupied neighbours.\"\"\"\u001b[0m\u001b[0;34m\u001b[0m\u001b[0;34m\u001b[0m\u001b[0m\n\u001b[1;32m     25\u001b[0m     \u001b[0;31m# TODO: define the rules for the CA.  This is a significant challenge b/c there are 4 rules and they must act independently!\u001b[0m\u001b[0;34m\u001b[0m\u001b[0;34m\u001b[0m\u001b[0;34m\u001b[0m\u001b[0m\n\u001b[0;32m---> 26\u001b[0;31m     \u001b[0mtransitions\u001b[0m \u001b[0;34m=\u001b[0m \u001b[0mcorrelate2d\u001b[0m\u001b[0;34m(\u001b[0m\u001b[0mself\u001b[0m\u001b[0;34m.\u001b[0m\u001b[0mstate\u001b[0m\u001b[0;34m,\u001b[0m \u001b[0mself\u001b[0m\u001b[0;34m.\u001b[0m\u001b[0mkernel\u001b[0m\u001b[0;34m,\u001b[0m \u001b[0mmode\u001b[0m\u001b[0;34m=\u001b[0m\u001b[0;34m'same'\u001b[0m\u001b[0;34m,\u001b[0m \u001b[0mboundary\u001b[0m\u001b[0;34m=\u001b[0m\u001b[0;34m'wrap'\u001b[0m\u001b[0;34m)\u001b[0m\u001b[0;34m\u001b[0m\u001b[0;34m\u001b[0m\u001b[0m\n\u001b[0m\u001b[1;32m     27\u001b[0m \u001b[0;34m\u001b[0m\u001b[0m\n\u001b[1;32m     28\u001b[0m   \u001b[0;32mdef\u001b[0m \u001b[0mnum_occupied\u001b[0m\u001b[0;34m(\u001b[0m\u001b[0mself\u001b[0m\u001b[0;34m)\u001b[0m\u001b[0;34m:\u001b[0m\u001b[0;34m\u001b[0m\u001b[0;34m\u001b[0m\u001b[0m\n",
            "\u001b[0;31mAttributeError\u001b[0m: 'ForestFire' object has no attribute 'state'"
          ]
        }
      ],
      "source": [
        "sizes = np.array([10, 50, 100, 200, 500, 800, 1200])\n",
        "occupied = calc_forest_scaling(sizes)\n",
        "plot_forest_scaling(sizes, occupied)"
      ],
      "metadata": {
        "pycharm": {
          "name": "#%%\n"
        },
        "id": "V27jCspZCZdu",
        "outputId": "8657c338-198e-4062-cb64-611f3b68d922",
        "colab": {
          "base_uri": "https://localhost:8080/",
          "height": 345
        }
      }
    },
    {
      "cell_type": "code",
      "execution_count": null,
      "outputs": [],
      "source": [],
      "metadata": {
        "pycharm": {
          "name": "#%%\n"
        },
        "id": "bBCJB7RkCZdu"
      }
    }
  ],
  "metadata": {
    "kernelspec": {
      "display_name": "Python 3",
      "language": "python",
      "name": "python3"
    },
    "language_info": {
      "codemirror_mode": {
        "name": "ipython",
        "version": 2
      },
      "file_extension": ".py",
      "mimetype": "text/x-python",
      "name": "python",
      "nbconvert_exporter": "python",
      "pygments_lexer": "ipython2",
      "version": "2.7.6"
    },
    "colab": {
      "provenance": [],
      "include_colab_link": true
    }
  },
  "nbformat": 4,
  "nbformat_minor": 0
}